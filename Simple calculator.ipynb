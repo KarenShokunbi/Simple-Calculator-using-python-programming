{
 "cells": [
  {
   "cell_type": "markdown",
   "id": "17796964-0b41-4df3-b453-fead952619d6",
   "metadata": {},
   "source": [
    "#### Simple Calculator Task"
   ]
  },
  {
   "cell_type": "markdown",
   "id": "cd2fdfe8-72cf-4885-9fa2-86d554acc7a2",
   "metadata": {},
   "source": [
    "The aim of this project is to create a simple calculator which can perform basic arithmetic functions like addition, subtraction, division and multiplication."
   ]
  },
  {
   "cell_type": "code",
   "execution_count": null,
   "id": "659ec788-33cb-44bc-a55e-57ddd65a157e",
   "metadata": {},
   "outputs": [],
   "source": [
    "#define basic mathematical functions\n",
    "def add(x, y):\n",
    "    return x + y\n",
    "\n",
    "def subtract(x, y):\n",
    "    return x - y\n",
    "\n",
    "def multiply(x, y):\n",
    "    return x * y\n",
    "\n",
    "def divide(x, y):\n",
    "    if y != 0:\n",
    "        return x / y\n",
    "    else:\n",
    "        return \"Cannot divide by zero\"\n",
    "\n",
    "\n",
    "#Dictionary mapping operation symbols to their corresponding functions\n",
    "operations = {'+' : add, '-' : subtract, '*': multiply, '/': divide}\n",
    "\n",
    "#define calculator function\n",
    "def calculator():\n",
    "    #Prompt the user to input the first number\n",
    "    num1 = float(input(\"Enter the first number: \"))\n",
    "    return num1\n",
    "\n",
    "# Test the calculator function\n",
    "num1 = calculator()\n",
    "print(num1)\n",
    "\n",
    "while True:\n",
    "    user_input = input(\"select '+', '-', '*', '/' or 'quit' to exit:\") #Prompt user to select an operation\n",
    "    if user_input.lower() == 'quit' :\n",
    "        break\n",
    "    elif user_input in ['+', '-', '*', '/']:\n",
    "        num2 = float(input(\"Enter the second number: \"))\n",
    "    else:\n",
    "        print(\"Unrecognized arithmetic expression\")\n",
    "        continue\n",
    "\n",
    "\n",
    "    if user_input in operations:\n",
    "        calculation_function = operations[user_input]\n",
    "        answer = calculation_function(num1, num2)\n",
    "        print(f\"{num1} {user_input} {num2} = {answer}\") #print the equation and the result of calculation\n",
    "        num1 = answer #update num1 with the result for further calculation\n",
    "    else:\n",
    "        print(f\" '(user_input)' is not allowed.\")\n",
    "\n",
    "    shoud_continue = input (\"Continue using the result as the first number for further calculation? (YES/NO/QUIT):\")\n",
    "    if should_continue.upper() == \"NO\":\n",
    "        num1 = float(input(\"Enter the first number: \")) # start a new calculation\n",
    "    elif should_continue.upper() == \"QUIT\":\n",
    "        break\n",
    "    # otherwise, continue using the result on the first number\n",
    "        "
   ]
  },
  {
   "cell_type": "code",
   "execution_count": null,
   "id": "87f5244e-f612-4f19-a9ec-17a8254ae7ba",
   "metadata": {},
   "outputs": [],
   "source": [
    "print "
   ]
  }
 ],
 "metadata": {
  "kernelspec": {
   "display_name": "Python [conda env:base] *",
   "language": "python",
   "name": "conda-base-py"
  },
  "language_info": {
   "codemirror_mode": {
    "name": "ipython",
    "version": 3
   },
   "file_extension": ".py",
   "mimetype": "text/x-python",
   "name": "python",
   "nbconvert_exporter": "python",
   "pygments_lexer": "ipython3",
   "version": "3.12.7"
  }
 },
 "nbformat": 4,
 "nbformat_minor": 5
}
